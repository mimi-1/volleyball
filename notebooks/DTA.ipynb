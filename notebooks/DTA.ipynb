{
 "cells": [
  {
   "cell_type": "code",
   "execution_count": 1,
   "metadata": {},
   "outputs": [],
   "source": [
    "import pandas as pd\n",
    "\n",
    "# !pip install pandasql\n",
    "import pandasql as ps\n",
    "import math\n"
   ]
  },
  {
   "cell_type": "markdown",
   "metadata": {},
   "source": [
    "# Analysis and data transformation for all the files "
   ]
  },
  {
   "cell_type": "code",
   "execution_count": 3,
   "metadata": {},
   "outputs": [
    {
     "data": {
      "text/plain": [
       "(85509, 33)"
      ]
     },
     "execution_count": 3,
     "metadata": {},
     "output_type": "execute_result"
    }
   ],
   "source": [
    "# url = [\n",
    "#     \"https://raw.githubusercontent.com/BigTimeStats/beach-volleyball/master/data/full_archive/full_archive.csv\"\n",
    "# ]\n",
    "\n",
    "big_stat_df_with_nan = pd.read_csv(\n",
    "    \"./data/BigTimeStats.csv\",\n",
    "    index_col=None,\n",
    "    header=0,\n",
    "    encoding=\"latin-1\",\n",
    "    usecols=range(33),\n",
    ")\n",
    "big_stat_df_with_nan.shape"
   ]
  },
  {
   "cell_type": "code",
   "execution_count": 4,
   "metadata": {},
   "outputs": [],
   "source": [
    "big_stat_df = big_stat_df_with_nan.dropna(axis=0, thresh=5)\n"
   ]
  },
  {
   "cell_type": "code",
   "execution_count": 5,
   "metadata": {},
   "outputs": [],
   "source": [
    "name = \"Grigorii Voleanin\"\n",
    "dob = \"1967-04-01\"\n",
    "hgt = 77.0\n",
    "\n",
    "\n",
    "big_stat_df.loc[big_stat_df[\"l_player1\"] == name, \"l_p1_hgt\"] = hgt\n",
    "big_stat_df.loc[big_stat_df[\"l_player2\"] == name, \"l_p2_hgt\"] = hgt\n",
    "\n",
    "big_stat_df.loc[big_stat_df[\"l_player1\"] == name, \"l_p1_birthdate\"] = dob\n",
    "big_stat_df.loc[big_stat_df[\"l_player2\"] == name, \"l_p2_birthdate\"] = dob"
   ]
  },
  {
   "cell_type": "code",
   "execution_count": 6,
   "metadata": {},
   "outputs": [
    {
     "data": {
      "text/html": [
       "<div>\n",
       "<style scoped>\n",
       "    .dataframe tbody tr th:only-of-type {\n",
       "        vertical-align: middle;\n",
       "    }\n",
       "\n",
       "    .dataframe tbody tr th {\n",
       "        vertical-align: top;\n",
       "    }\n",
       "\n",
       "    .dataframe thead th {\n",
       "        text-align: right;\n",
       "    }\n",
       "</style>\n",
       "<table border=\"1\" class=\"dataframe\">\n",
       "  <thead>\n",
       "    <tr style=\"text-align: right;\">\n",
       "      <th></th>\n",
       "      <th>l_player2</th>\n",
       "      <th>l_p2_hgt</th>\n",
       "      <th>l_p2_birthdate</th>\n",
       "    </tr>\n",
       "  </thead>\n",
       "  <tbody>\n",
       "    <tr>\n",
       "      <th>38825</th>\n",
       "      <td>Grigorii Voleanin</td>\n",
       "      <td>77.0</td>\n",
       "      <td>1967-04-01</td>\n",
       "    </tr>\n",
       "    <tr>\n",
       "      <th>40438</th>\n",
       "      <td>Grigorii Voleanin</td>\n",
       "      <td>77.0</td>\n",
       "      <td>1967-04-01</td>\n",
       "    </tr>\n",
       "    <tr>\n",
       "      <th>44181</th>\n",
       "      <td>Grigorii Voleanin</td>\n",
       "      <td>77.0</td>\n",
       "      <td>1967-04-01</td>\n",
       "    </tr>\n",
       "    <tr>\n",
       "      <th>49342</th>\n",
       "      <td>Grigorii Voleanin</td>\n",
       "      <td>77.0</td>\n",
       "      <td>1967-04-01</td>\n",
       "    </tr>\n",
       "    <tr>\n",
       "      <th>53238</th>\n",
       "      <td>Grigorii Voleanin</td>\n",
       "      <td>77.0</td>\n",
       "      <td>1967-04-01</td>\n",
       "    </tr>\n",
       "  </tbody>\n",
       "</table>\n",
       "</div>"
      ],
      "text/plain": [
       "               l_player2  l_p2_hgt l_p2_birthdate\n",
       "38825  Grigorii Voleanin      77.0     1967-04-01\n",
       "40438  Grigorii Voleanin      77.0     1967-04-01\n",
       "44181  Grigorii Voleanin      77.0     1967-04-01\n",
       "49342  Grigorii Voleanin      77.0     1967-04-01\n",
       "53238  Grigorii Voleanin      77.0     1967-04-01"
      ]
     },
     "execution_count": 6,
     "metadata": {},
     "output_type": "execute_result"
    }
   ],
   "source": [
    "big_stat_df[big_stat_df[\"l_player2\"] == name][\n",
    "    [\"l_player2\", \"l_p2_hgt\", \"l_p2_birthdate\"]\n",
    "]"
   ]
  },
  {
   "cell_type": "code",
   "execution_count": 7,
   "metadata": {},
   "outputs": [],
   "source": [
    "date_columns = [\"w_p1_birthdate\", \"w_p2_birthdate\", \"l_p1_birthdate\", \"l_p2_birthdate\"]\n",
    "for col in date_columns:\n",
    "    big_stat_df[col] = pd.to_datetime(big_stat_df[col], errors=\"coerce\")\n",
    "    big_stat_df[col] = big_stat_df[col].apply(\n",
    "        lambda x: x.replace(year=x.year - 100) if x.year > 2015 else x\n",
    "    )\n",
    "    big_stat_df[\"date\"] = pd.to_datetime(big_stat_df[\"date\"], errors=\"coerce\")\n"
   ]
  },
  {
   "cell_type": "code",
   "execution_count": 8,
   "metadata": {},
   "outputs": [],
   "source": [
    "##reading teamblack\n",
    "tb_df_cw = pd.read_excel(\"./data/TeamBlackData.xlsx\", sheet_name=\"Challenge Women\")\n",
    "tb_df_cw[\"gender\"] = \"F\"  # 0 for female\n",
    "\n",
    "tb_df_cm = pd.read_excel(\"./data/TeamBlackData.xlsx\", sheet_name=\"Challenge Men\")\n",
    "tb_df_cm[\"gender\"] = \"M\"  # 1 for male\n",
    "\n",
    "tb_df_elite16w = pd.read_excel(\"./data/TeamBlackData.xlsx\", sheet_name=\"Elite 16 Women\")\n",
    "tb_df_elite16w[\"gender\"] = \"F\"\n",
    "\n",
    "tb_df_elite16m = pd.read_excel(\"./data/TeamBlackData.xlsx\", sheet_name=\"Elite 16 Men\")\n",
    "tb_df_elite16m[\"gender\"] = \"M\"\n",
    "\n",
    "tb_df = pd.concat(\n",
    "    [tb_df_cw, tb_df_cm, tb_df_elite16w, tb_df_elite16m], ignore_index=True\n",
    ")\n",
    "tb_df[\"isBlack_Challenge\"] = tb_df[\"TypeOfEvent\"] == \"Challenge\"\n",
    "tb_df[\"isBlack_Elite16\"] = tb_df[\"TypeOfEvent\"] == \"Elite 16\"\n",
    "\n",
    "tb_df.to_csv(\"./data/out/full_team_black.csv\")\n"
   ]
  },
  {
   "cell_type": "code",
   "execution_count": 9,
   "metadata": {},
   "outputs": [
    {
     "data": {
      "text/plain": [
       "(130, 15)"
      ]
     },
     "execution_count": 9,
     "metadata": {},
     "output_type": "execute_result"
    }
   ],
   "source": [
    "# Keep only unique rows based on the 'FIVB_ID' column\n",
    "tb_df_unique = tb_df.drop_duplicates(subset=\"FIVB_ID\", keep=\"first\")\n",
    "tb_df_unique.shape"
   ]
  },
  {
   "cell_type": "markdown",
   "metadata": {},
   "source": [
    "we have only 130 unoque athletes from teamBlack"
   ]
  },
  {
   "cell_type": "code",
   "execution_count": null,
   "metadata": {},
   "outputs": [],
   "source": []
  },
  {
   "cell_type": "code",
   "execution_count": 10,
   "metadata": {},
   "outputs": [],
   "source": [
    "## get all scraped data - will be based on this and update it with data from\n",
    "allplayers_df = pd.read_csv(\"./data/allplayers.csv\")\n",
    "# transform height\n",
    "# allplayers_df.describe(include=\"all\")"
   ]
  },
  {
   "cell_type": "markdown",
   "metadata": {},
   "source": [
    "##### Transform Height to number in inches and in cm "
   ]
  },
  {
   "cell_type": "code",
   "execution_count": 90,
   "metadata": {},
   "outputs": [],
   "source": [
    "def convert_to_inches(height_str):\n",
    "    if isinstance(height_str, str):\n",
    "        feet, inches = map(int, height_str.strip('\"').split(\"'\"))\n",
    "        # print(feet, inches)\n",
    "        total_inches = (feet * 12) + inches\n",
    "        return total_inches\n",
    "    else:\n",
    "        return math.nan\n",
    "\n",
    "\n",
    "# Function to convert height from inches to centimeters\n",
    "def convert_to_cm(height_inches):\n",
    "    return height_inches * 2.54\n",
    "\n",
    "\n",
    "# 9818 records with height\n"
   ]
  },
  {
   "cell_type": "code",
   "execution_count": 91,
   "metadata": {},
   "outputs": [],
   "source": [
    "allplayers_df[\"height_inches\"] = allplayers_df[\"height_in\"].apply(convert_to_inches)\n",
    "allplayers_df[\"height_cm\"] = allplayers_df[\"height_inches\"].apply(convert_to_cm)\n",
    "allplayers_df = allplayers_df.drop(\"height_in\", axis=1)\n",
    "def parse_date(date_str):\n",
    "    try:\n",
    "        if pd.isna(date_str):\n",
    "            return None\n",
    "        # Split the date string to extract the date part (e.g., \"April 28, 1973\")\n",
    "        date_part = date_str.split(\" (\")[0]\n",
    "\n",
    "        # # Convert the date part to a datetime object\n",
    "        date_object = pd.to_datetime(date_part, format=\"%B %d, %Y\")\n",
    "\n",
    "        return date_object\n",
    "    except ValueError:\n",
    "        return None\n",
    "\n",
    "\n",
    "# Test the function with the example date string\n",
    "# date_string = \"April 28\"\n",
    "# parsed_date = parse_date(date_string)\n",
    "\n",
    "# print(parsed_date)\n",
    "\n",
    "allplayers_df[\"DOB_str\"] = allplayers_df[\"DOB\"]\n",
    "allplayers_df[\"DOB\"] = allplayers_df[\"DOB_str\"].apply(parse_date)"
   ]
  },
  {
   "cell_type": "code",
   "execution_count": 92,
   "metadata": {},
   "outputs": [
    {
     "data": {
      "text/html": [
       "<div>\n",
       "<style scoped>\n",
       "    .dataframe tbody tr th:only-of-type {\n",
       "        vertical-align: middle;\n",
       "    }\n",
       "\n",
       "    .dataframe tbody tr th {\n",
       "        vertical-align: top;\n",
       "    }\n",
       "\n",
       "    .dataframe thead th {\n",
       "        text-align: right;\n",
       "    }\n",
       "</style>\n",
       "<table border=\"1\" class=\"dataframe\">\n",
       "  <thead>\n",
       "    <tr style=\"text-align: right;\">\n",
       "      <th></th>\n",
       "      <th>height_in</th>\n",
       "      <th>height_inches</th>\n",
       "      <th>height_cm</th>\n",
       "    </tr>\n",
       "  </thead>\n",
       "  <tbody>\n",
       "    <tr>\n",
       "      <th>count</th>\n",
       "      <td>9818</td>\n",
       "      <td>9818.000000</td>\n",
       "      <td>9818.000000</td>\n",
       "    </tr>\n",
       "    <tr>\n",
       "      <th>unique</th>\n",
       "      <td>31</td>\n",
       "      <td>NaN</td>\n",
       "      <td>NaN</td>\n",
       "    </tr>\n",
       "    <tr>\n",
       "      <th>top</th>\n",
       "      <td>6'0\"</td>\n",
       "      <td>NaN</td>\n",
       "      <td>NaN</td>\n",
       "    </tr>\n",
       "    <tr>\n",
       "      <th>freq</th>\n",
       "      <td>1027</td>\n",
       "      <td>NaN</td>\n",
       "      <td>NaN</td>\n",
       "    </tr>\n",
       "    <tr>\n",
       "      <th>mean</th>\n",
       "      <td>NaN</td>\n",
       "      <td>72.546038</td>\n",
       "      <td>184.266936</td>\n",
       "    </tr>\n",
       "    <tr>\n",
       "      <th>std</th>\n",
       "      <td>NaN</td>\n",
       "      <td>3.761149</td>\n",
       "      <td>9.553320</td>\n",
       "    </tr>\n",
       "    <tr>\n",
       "      <th>min</th>\n",
       "      <td>NaN</td>\n",
       "      <td>54.000000</td>\n",
       "      <td>137.160000</td>\n",
       "    </tr>\n",
       "    <tr>\n",
       "      <th>25%</th>\n",
       "      <td>NaN</td>\n",
       "      <td>70.000000</td>\n",
       "      <td>177.800000</td>\n",
       "    </tr>\n",
       "    <tr>\n",
       "      <th>50%</th>\n",
       "      <td>NaN</td>\n",
       "      <td>72.000000</td>\n",
       "      <td>182.880000</td>\n",
       "    </tr>\n",
       "    <tr>\n",
       "      <th>75%</th>\n",
       "      <td>NaN</td>\n",
       "      <td>75.000000</td>\n",
       "      <td>190.500000</td>\n",
       "    </tr>\n",
       "    <tr>\n",
       "      <th>max</th>\n",
       "      <td>NaN</td>\n",
       "      <td>86.000000</td>\n",
       "      <td>218.440000</td>\n",
       "    </tr>\n",
       "  </tbody>\n",
       "</table>\n",
       "</div>"
      ],
      "text/plain": [
       "       height_in  height_inches    height_cm\n",
       "count       9818    9818.000000  9818.000000\n",
       "unique        31            NaN          NaN\n",
       "top         6'0\"            NaN          NaN\n",
       "freq        1027            NaN          NaN\n",
       "mean         NaN      72.546038   184.266936\n",
       "std          NaN       3.761149     9.553320\n",
       "min          NaN      54.000000   137.160000\n",
       "25%          NaN      70.000000   177.800000\n",
       "50%          NaN      72.000000   182.880000\n",
       "75%          NaN      75.000000   190.500000\n",
       "max          NaN      86.000000   218.440000"
      ]
     },
     "execution_count": 92,
     "metadata": {},
     "output_type": "execute_result"
    }
   ],
   "source": [
    "allplayers_df[[\"height_in\", \"height_inches\", \"height_cm\"]].describe(include=\"all\")\n"
   ]
  },
  {
   "cell_type": "markdown",
   "metadata": {},
   "source": [
    "#####  Enrich  data of athletes height from big stats "
   ]
  },
  {
   "cell_type": "code",
   "execution_count": 328,
   "metadata": {},
   "outputs": [],
   "source": [
    "matches_df = big_stat_df[\n",
    "    [\n",
    "        \"circuit\",\n",
    "        \"tournament\",\n",
    "        \"country\",\n",
    "        \"year\",\n",
    "        \"date\",\n",
    "        \"gender\",\n",
    "        \"match_num\",\n",
    "        \"score\",\n",
    "        \"duration\",\n",
    "        \"bracket\",\n",
    "        \"round\",\n",
    "        \"w_player1\",\n",
    "        \"w_p1_birthdate\",\n",
    "        \"w_player2\",\n",
    "        \"w_p2_birthdate\",\n",
    "        \"l_player1\",\n",
    "        \"l_p1_birthdate\",\n",
    "        \"l_p2_birthdate\",\n",
    "    ]\n",
    "]\n",
    "# matches_df.head()"
   ]
  },
  {
   "cell_type": "code",
   "execution_count": 498,
   "metadata": {},
   "outputs": [
    {
     "name": "stderr",
     "output_type": "stream",
     "text": [
      "C:\\Users\\Marina\\AppData\\Local\\Temp\\ipykernel_13004\\2814655153.py:21: SettingWithCopyWarning: \n",
      "A value is trying to be set on a copy of a slice from a DataFrame.\n",
      "Try using .loc[row_indexer,col_indexer] = value instead\n",
      "\n",
      "See the caveats in the documentation: https://pandas.pydata.org/pandas-docs/stable/user_guide/indexing.html#returning-a-view-versus-a-copy\n",
      "  matches_df[[\"win_score\", \"lost_score\", \"num_rounds\"]] = (\n"
     ]
    }
   ],
   "source": [
    "def extract_scores_and_rounds(score):\n",
    "    try:\n",
    "        if pd.isna(score):\n",
    "            return math.nan, math.nan, math.nan\n",
    "\n",
    "        rounds = score.count(\",\") + 1\n",
    "        score_parts = score.split(\",\")\n",
    "        total_win_score = 0\n",
    "        total_lost_score = 0\n",
    "\n",
    "        for score_part in score_parts:\n",
    "            win_score, lost_score = score_part.strip().split(\"-\")\n",
    "            total_win_score += int(win_score)\n",
    "            total_lost_score += int(lost_score)\n",
    "\n",
    "        return total_win_score, total_lost_score, rounds\n",
    "    except ValueError:\n",
    "        return math.nan, math.nan, math.nan\n",
    "\n",
    "\n",
    "matches_df[[\"win_score\", \"lost_score\", \"num_rounds\"]] = (\n",
    "    matches_df[\"score\"].apply(extract_scores_and_rounds).apply(pd.Series)\n",
    ")\n",
    "# matches_df[[\"win_score\", \"lost_score\", \"num_rounds\", \"score\"]].describe(include=\"all\")\n"
   ]
  },
  {
   "cell_type": "code",
   "execution_count": 499,
   "metadata": {},
   "outputs": [
    {
     "name": "stderr",
     "output_type": "stream",
     "text": [
      "C:\\Users\\Marina\\AppData\\Local\\Temp\\ipykernel_13004\\36878012.py:1: SettingWithCopyWarning: \n",
      "A value is trying to be set on a copy of a slice from a DataFrame.\n",
      "Try using .loc[row_indexer,col_indexer] = value instead\n",
      "\n",
      "See the caveats in the documentation: https://pandas.pydata.org/pandas-docs/stable/user_guide/indexing.html#returning-a-view-versus-a-copy\n",
      "  matches_df[\"match_id\"] = matches_df.index + 1\n"
     ]
    }
   ],
   "source": [
    "matches_df[\"match_id\"] = matches_df.index + 1\n"
   ]
  },
  {
   "cell_type": "code",
   "execution_count": 450,
   "metadata": {},
   "outputs": [],
   "source": [
    "## Connecting by using player name\n",
    "\n",
    "# big_stat_df.describe()\n",
    "\n",
    "w_p1_dict = {\n",
    "    \"gender\": \"gender\",\n",
    "    \"w_player1\": \"player_name\",\n",
    "    \"w_p1_birthdate\": \"DOB\",\n",
    "    \"w_p1_hgt\": \"height_inches\",\n",
    "    \"w_p1_country\": \"player_country\",\n",
    "    \"duration\": \"duration\",\n",
    "    \"w_player2\": \"partner\",\n",
    "}\n",
    "# w_p1_dict.keys()\n",
    "w_p1_df = big_stat_df[w_p1_dict.keys()].rename(columns=w_p1_dict)\n",
    "\n",
    "w_p2_dict = {\n",
    "    \"gender\": \"gender\",\n",
    "    \"w_player2\": \"player_name\",\n",
    "    \"w_p2_birthdate\": \"DOB\",\n",
    "    \"w_p2_hgt\": \"height_inches\",\n",
    "    \"w_p2_country\": \"player_country\",\n",
    "    \"duration\": \"duration\",\n",
    "    \"w_player1\": \"partner\",\n",
    "}\n",
    "\n",
    "w_p2_df = big_stat_df[w_p2_dict.keys()].rename(columns=w_p2_dict)\n",
    "\n",
    "l_p1_dict = {\n",
    "    \"gender\": \"gender\",\n",
    "    \"l_player1\": \"player_name\",\n",
    "    \"l_p1_birthdate\": \"DOB\",\n",
    "    \"l_p1_hgt\": \"height_inches\",\n",
    "    \"l_p1_country\": \"player_country\",\n",
    "    \"duration\": \"duration\",\n",
    "    \"l_player2\": \"partner\",\n",
    "}\n",
    "\n",
    "l_p1_df = big_stat_df[l_p1_dict.keys()].rename(columns=l_p1_dict)\n",
    "\n",
    "l_p2_dict = {\n",
    "    \"gender\": \"gender\",\n",
    "    \"l_player2\": \"player_name\",\n",
    "    \"l_p2_birthdate\": \"DOB\",\n",
    "    \"l_p2_hgt\": \"height_inches\",\n",
    "    \"l_p2_country\": \"player_country\",\n",
    "    \"duration\": \"duration\",\n",
    "    \"l_player1\": \"partner\",\n",
    "}\n",
    "l_p2_df = big_stat_df[l_p2_dict.keys()].rename(columns=l_p2_dict)"
   ]
  },
  {
   "cell_type": "code",
   "execution_count": 451,
   "metadata": {},
   "outputs": [
    {
     "data": {
      "text/plain": [
       "(342036, 7)"
      ]
     },
     "execution_count": 451,
     "metadata": {},
     "output_type": "execute_result"
    }
   ],
   "source": [
    "big_stat_players_df = pd.concat([w_p1_df, w_p2_df, l_p1_df, l_p2_df])\n",
    "big_stat_players_df.shape"
   ]
  },
  {
   "cell_type": "code",
   "execution_count": 334,
   "metadata": {},
   "outputs": [
    {
     "name": "stdout",
     "output_type": "stream",
     "text": [
      "    BVB_ID                           FIVB_Name\n",
      "0     5887            Carolina Solberg Salgado\n",
      "1     8022           Barbara Seixas De Freitas\n",
      "2     9593                Elize Secomandi Maia\n",
      "3    18464             Thamela Coradello Galil\n",
      "4    14458         Andressa Cavalcanti Ramalho\n",
      "5    16883          Vitoria De Souza Rodrigues\n",
      "6     8395           Mariafe Artacho Del Solar\n",
      "7    17054                    Mexime Van Driel\n",
      "8     7914                Taru Lahti-Liukkonen\n",
      "9    14460                    Taina Silva Bigi\n",
      "10   15283        Victoria Lopes Pereira Tosta\n",
      "11   18426  Vicente Orlando Droguett Torrealba\n",
      "12   14454        George Souto Maior Wanderley\n",
      "13   15355                  Andre Loyola Stein\n",
      "14    8410                  Christopher Mchugh\n",
      "15   13275                 Hendrik Nikolai Mol\n",
      "16   18352                       Andrew Benesh\n",
      "17   15323          Arthur Diego Mariano Lanci\n",
      "18    8338    Adrian Ignacio Carambula Raurich\n",
      "19    2077               Pablo Herrera Allepuz\n",
      "20    7783               Adrian Gavira Collado\n",
      "21   17881                     Yorick De Groot\n",
      "22   11854   Evandro Goncalves Oliveira Junior\n",
      "23    5146             Talita Da Rocha Antunes\n",
      "24   11610    Rebecca Cavalcanti Barbosa Silva\n",
      "25   13802               Eduarda Santos Lisboa\n",
      "26   15329            Ana Patricia Silva Ramos\n",
      "27   13274             Christian Sandlie Sorum\n",
      "28   14741                 Anders Berntsen Mol\n",
      "29   13566                 Steven Van De Velde\n"
     ]
    }
   ],
   "source": [
    "query = \"\"\"\n",
    "    SELECT BVB_ID, FIVB_Name\n",
    "    FROM tb_df_unique\n",
    "    WHERE tb_df_unique.FIVB_Name not in (\n",
    "        SELECT player_name\n",
    "        FROM big_stat_players_df )\n",
    "\"\"\"\n",
    "\n",
    "# Execute the SQL query\n",
    "not_merged_players_df = ps.sqldf(query, globals())\n",
    "\n",
    "# Display the players who didn't merge into allplayers_df\n",
    "print(not_merged_players_df)"
   ]
  },
  {
   "cell_type": "code",
   "execution_count": 335,
   "metadata": {},
   "outputs": [
    {
     "name": "stdout",
     "output_type": "stream",
     "text": [
      "count          10076\n",
      "unique         10076\n",
      "top       Kevin Wong\n",
      "freq               1\n",
      "Name: player_name, dtype: object\n"
     ]
    }
   ],
   "source": [
    "# Remove duplicates from the DataFrame\n",
    "big_stat_players_df.drop_duplicates(subset=\"player_name\", inplace=True)\n",
    "big_stat_players_df.reset_index(drop=True, inplace=True)\n",
    "\n",
    "print(big_stat_players_df.player_name.describe())\n"
   ]
  },
  {
   "cell_type": "code",
   "execution_count": 336,
   "metadata": {},
   "outputs": [
    {
     "data": {
      "text/html": [
       "<div>\n",
       "<style scoped>\n",
       "    .dataframe tbody tr th:only-of-type {\n",
       "        vertical-align: middle;\n",
       "    }\n",
       "\n",
       "    .dataframe tbody tr th {\n",
       "        vertical-align: top;\n",
       "    }\n",
       "\n",
       "    .dataframe thead th {\n",
       "        text-align: right;\n",
       "    }\n",
       "</style>\n",
       "<table border=\"1\" class=\"dataframe\">\n",
       "  <thead>\n",
       "    <tr style=\"text-align: right;\">\n",
       "      <th></th>\n",
       "      <th>gender</th>\n",
       "      <th>player_name</th>\n",
       "      <th>DOB</th>\n",
       "      <th>height_inches</th>\n",
       "      <th>player_country</th>\n",
       "    </tr>\n",
       "  </thead>\n",
       "  <tbody>\n",
       "  </tbody>\n",
       "</table>\n",
       "</div>"
      ],
      "text/plain": [
       "Empty DataFrame\n",
       "Columns: [gender, player_name, DOB, height_inches, player_country]\n",
       "Index: []"
      ]
     },
     "execution_count": 336,
     "metadata": {},
     "output_type": "execute_result"
    }
   ],
   "source": [
    "big_stat_players_df[big_stat_players_df.duplicated(subset=\"player_name\", keep=False)]\n"
   ]
  },
  {
   "cell_type": "code",
   "execution_count": 285,
   "metadata": {},
   "outputs": [],
   "source": [
    "## find ids for the players by name and birthdate , assign the ids\n",
    "## if there is no birthdate, check for player and height\n",
    "## else just first occurance of the name\n",
    "\n",
    "# big_stat_players_df vs allplayers_df\n",
    "\n",
    "# allplayers_df.describe(include=\"all\")  # player_name DOB player_id\n",
    "\n",
    "# transform allplayers_df.DOB\n"
   ]
  },
  {
   "cell_type": "markdown",
   "metadata": {},
   "source": [
    "### Merge scraped file and file from match statistics "
   ]
  },
  {
   "cell_type": "code",
   "execution_count": 337,
   "metadata": {},
   "outputs": [],
   "source": [
    "## MErge\n",
    "from fuzzywuzzy import fuzz\n",
    "\n",
    "\n",
    "def find_name(string1, names, threshold=85):\n",
    "    for name in names:\n",
    "        words1 = string1.lower().split()\n",
    "        words2 = name.lower().split()  ## big stat names\n",
    "        count = 0\n",
    "        for word1 in words1:\n",
    "            for word2 in words2:\n",
    "                similarity_score = fuzz.token_sort_ratio(word1, word2)\n",
    "                if similarity_score >= threshold:\n",
    "                    count = count + 1\n",
    "                    break\n",
    "        if (count >= 2) and (len(words2) == count):\n",
    "            return name\n",
    "    return None\n",
    "\n",
    "\n",
    "# # Test\n",
    "# string1 = \"Andressa Cavalcanti Ramalho\"\n",
    "# result1 = find_name(string1, big_stat_players_df[\"player_name\"], threshold=85)\n",
    "# print(result1)  # Output: True\n",
    "\n",
    "\n",
    "# # # # Create a copy of allplayers_df with a new column 'best_match_player_name'\n",
    "allplayers_copy = allplayers_df.copy()\n",
    "allplayers_copy[\"big_stat_player_name\"] = allplayers_copy[\"player_name\"].apply(\n",
    "    lambda x: find_name(x, big_stat_players_df[\"player_name\"], threshold=85)\n",
    ")\n",
    "\n",
    "# allplayers_copy.to_csv(\"./data/out/allplayers_updated.csv\", index=False)"
   ]
  },
  {
   "cell_type": "code",
   "execution_count": 500,
   "metadata": {},
   "outputs": [
    {
     "data": {
      "text/html": [
       "<div>\n",
       "<style scoped>\n",
       "    .dataframe tbody tr th:only-of-type {\n",
       "        vertical-align: middle;\n",
       "    }\n",
       "\n",
       "    .dataframe tbody tr th {\n",
       "        vertical-align: top;\n",
       "    }\n",
       "\n",
       "    .dataframe thead th {\n",
       "        text-align: right;\n",
       "    }\n",
       "</style>\n",
       "<table border=\"1\" class=\"dataframe\">\n",
       "  <thead>\n",
       "    <tr style=\"text-align: right;\">\n",
       "      <th></th>\n",
       "      <th>player_name</th>\n",
       "      <th>big_stat_player_name</th>\n",
       "    </tr>\n",
       "  </thead>\n",
       "  <tbody>\n",
       "    <tr>\n",
       "      <th>1</th>\n",
       "      <td>Rifat Agi</td>\n",
       "      <td>None</td>\n",
       "    </tr>\n",
       "    <tr>\n",
       "      <th>2</th>\n",
       "      <td>Todd Ahmadi</td>\n",
       "      <td>None</td>\n",
       "    </tr>\n",
       "    <tr>\n",
       "      <th>7</th>\n",
       "      <td>Robert Bell</td>\n",
       "      <td>None</td>\n",
       "    </tr>\n",
       "    <tr>\n",
       "      <th>8</th>\n",
       "      <td>Jeff Bellandi</td>\n",
       "      <td>None</td>\n",
       "    </tr>\n",
       "    <tr>\n",
       "      <th>9</th>\n",
       "      <td>Jud Buechler</td>\n",
       "      <td>None</td>\n",
       "    </tr>\n",
       "    <tr>\n",
       "      <th>...</th>\n",
       "      <td>...</td>\n",
       "      <td>...</td>\n",
       "    </tr>\n",
       "    <tr>\n",
       "      <th>21765</th>\n",
       "      <td>Jinyang Song</td>\n",
       "      <td>None</td>\n",
       "    </tr>\n",
       "    <tr>\n",
       "      <th>21766</th>\n",
       "      <td>Abudula Dilinaer</td>\n",
       "      <td>None</td>\n",
       "    </tr>\n",
       "    <tr>\n",
       "      <th>21767</th>\n",
       "      <td>Jindi Dong</td>\n",
       "      <td>None</td>\n",
       "    </tr>\n",
       "    <tr>\n",
       "      <th>21768</th>\n",
       "      <td>Jiayi Xing</td>\n",
       "      <td>None</td>\n",
       "    </tr>\n",
       "    <tr>\n",
       "      <th>21769</th>\n",
       "      <td>Jana Graf</td>\n",
       "      <td>None</td>\n",
       "    </tr>\n",
       "  </tbody>\n",
       "</table>\n",
       "<p>11775 rows × 2 columns</p>\n",
       "</div>"
      ],
      "text/plain": [
       "            player_name big_stat_player_name\n",
       "1             Rifat Agi                 None\n",
       "2           Todd Ahmadi                 None\n",
       "7           Robert Bell                 None\n",
       "8         Jeff Bellandi                 None\n",
       "9          Jud Buechler                 None\n",
       "...                 ...                  ...\n",
       "21765      Jinyang Song                 None\n",
       "21766  Abudula Dilinaer                 None\n",
       "21767        Jindi Dong                 None\n",
       "21768        Jiayi Xing                 None\n",
       "21769         Jana Graf                 None\n",
       "\n",
       "[11775 rows x 2 columns]"
      ]
     },
     "execution_count": 500,
     "metadata": {},
     "output_type": "execute_result"
    }
   ],
   "source": [
    "allplayers_copy[[\"player_name\", \"big_stat_player_name\"]][\n",
    "    allplayers_copy.big_stat_player_name.isna()\n",
    "]"
   ]
  },
  {
   "cell_type": "code",
   "execution_count": 341,
   "metadata": {},
   "outputs": [
    {
     "data": {
      "text/plain": [
       "Index(['player_id', 'player_name', 'player_country', 'DOB', 'home_town',\n",
       "       'resides', 'total_first', 'total_second', 'total_third', 'total_forth',\n",
       "       'total_played', 'total_points', 'podium%', 'height_inches', 'height_cm',\n",
       "       'DOB_date', 'DOB_str', 'big_stat_player_name'],\n",
       "      dtype='object')"
      ]
     },
     "execution_count": 341,
     "metadata": {},
     "output_type": "execute_result"
    }
   ],
   "source": [
    "allplayers_copy.columns"
   ]
  },
  {
   "cell_type": "code",
   "execution_count": 501,
   "metadata": {},
   "outputs": [],
   "source": [
    "allplayers_copy.loc[\n",
    "    allplayers_copy[\"player_id\"] == 7914, \"big_stat_player_name\"\n",
    "] = \"Taru Lahti\"\n"
   ]
  },
  {
   "cell_type": "code",
   "execution_count": 502,
   "metadata": {},
   "outputs": [
    {
     "data": {
      "text/html": [
       "<div>\n",
       "<style scoped>\n",
       "    .dataframe tbody tr th:only-of-type {\n",
       "        vertical-align: middle;\n",
       "    }\n",
       "\n",
       "    .dataframe tbody tr th {\n",
       "        vertical-align: top;\n",
       "    }\n",
       "\n",
       "    .dataframe thead th {\n",
       "        text-align: right;\n",
       "    }\n",
       "</style>\n",
       "<table border=\"1\" class=\"dataframe\">\n",
       "  <thead>\n",
       "    <tr style=\"text-align: right;\">\n",
       "      <th></th>\n",
       "      <th>player_id</th>\n",
       "      <th>player_name</th>\n",
       "      <th>big_stat_player_name</th>\n",
       "      <th>DOB</th>\n",
       "    </tr>\n",
       "  </thead>\n",
       "  <tbody>\n",
       "    <tr>\n",
       "      <th>7499</th>\n",
       "      <td>7914</td>\n",
       "      <td>Taru Lahti-Liukkonen</td>\n",
       "      <td>Taru Lahti</td>\n",
       "      <td>1992-12-09</td>\n",
       "    </tr>\n",
       "  </tbody>\n",
       "</table>\n",
       "</div>"
      ],
      "text/plain": [
       "      player_id           player_name big_stat_player_name        DOB\n",
       "7499       7914  Taru Lahti-Liukkonen           Taru Lahti 1992-12-09"
      ]
     },
     "execution_count": 502,
     "metadata": {},
     "output_type": "execute_result"
    }
   ],
   "source": [
    "allplayers_copy[allplayers_copy[\"player_id\"] == 7914][\n",
    "    [\"player_id\", \"player_name\", \"big_stat_player_name\", \"DOB\"]\n",
    "]\n"
   ]
  },
  {
   "cell_type": "code",
   "execution_count": 503,
   "metadata": {},
   "outputs": [
    {
     "name": "stdout",
     "output_type": "stream",
     "text": [
      "Empty DataFrame\n",
      "Columns: [BVB_ID, FIVB_Name]\n",
      "Index: []\n"
     ]
    }
   ],
   "source": [
    "query = \"\"\"\n",
    "    SELECT BVB_ID, FIVB_Name\n",
    "    FROM tb_df_unique\n",
    "    WHERE tb_df_unique. BVB_ID not in (\n",
    "        SELECT player_id\n",
    "        FROM allplayers_copy)\n",
    "\"\"\"\n",
    "\n",
    "# Execute the SQL query\n",
    "not_merged_players_df = ps.sqldf(query, globals())\n",
    "\n",
    "# Display the players who didn't merge into allplayers_df\n",
    "print(not_merged_players_df)"
   ]
  },
  {
   "cell_type": "code",
   "execution_count": 505,
   "metadata": {},
   "outputs": [],
   "source": [
    "allplayers_copy.to_csv(\"./data/out/allplayers_updated.csv\", index=False)"
   ]
  },
  {
   "cell_type": "markdown",
   "metadata": {},
   "source": [
    "so, we captured all players in our file and merged them with bigtimestat "
   ]
  },
  {
   "cell_type": "code",
   "execution_count": 508,
   "metadata": {},
   "outputs": [
    {
     "data": {
      "text/plain": [
       "(10089, 4)"
      ]
     },
     "execution_count": 508,
     "metadata": {},
     "output_type": "execute_result"
    }
   ],
   "source": [
    "big_stat_players_df_unique = big_stat_players_df[\n",
    "    [\"gender\", \"player_name\", \"DOB\", \"height_inches\"]\n",
    "].drop_duplicates()\n",
    "big_stat_players_df_unique.shape"
   ]
  },
  {
   "cell_type": "code",
   "execution_count": 509,
   "metadata": {},
   "outputs": [],
   "source": [
    "# # # Merge big_stat_players_df with allplayers_copy\n",
    "merged_players_df = pd.merge(\n",
    "    allplayers_copy,\n",
    "    big_stat_players_df_unique,\n",
    "    left_on=\"big_stat_player_name\",\n",
    "    right_on=\"player_name\",\n",
    "    how=\"inner\",\n",
    ")\n",
    "\n",
    "merged_players_df.rename(columns={\"player_id\": \"BVB_ID\"}, inplace=True)\n",
    "merged_players_df.to_csv(\"./data/out/merged_players.csv\", index=False)"
   ]
  },
  {
   "cell_type": "code",
   "execution_count": 510,
   "metadata": {},
   "outputs": [
    {
     "data": {
      "text/plain": [
       "(10021, 22)"
      ]
     },
     "execution_count": 510,
     "metadata": {},
     "output_type": "execute_result"
    }
   ],
   "source": [
    "merged_players_df.shape\n"
   ]
  },
  {
   "cell_type": "code",
   "execution_count": 511,
   "metadata": {},
   "outputs": [
    {
     "name": "stdout",
     "output_type": "stream",
     "text": [
      "Empty DataFrame\n",
      "Columns: [BVB_ID, FIVB_Name]\n",
      "Index: []\n"
     ]
    }
   ],
   "source": [
    "## check for blackteam\n",
    "#  SQL query to find players in big_stat_players_df who didn't merge into allplayers_df\n",
    "query = \"\"\"\n",
    "    SELECT BVB_ID, FIVB_Name\n",
    "    FROM tb_df_unique\n",
    "    WHERE tb_df_unique.BVB_ID not in (\n",
    "        SELECT BVB_ID\n",
    "        FROM merged_players_df)\n",
    "\"\"\"\n",
    "\n",
    "# Execute the SQL query\n",
    "not_merged_players_df = ps.sqldf(query, globals())\n",
    "\n",
    "# Display the players who didn't merge into allplayers_df\n",
    "print(not_merged_players_df)"
   ]
  },
  {
   "cell_type": "markdown",
   "metadata": {},
   "source": [
    "we have all black team covered "
   ]
  },
  {
   "cell_type": "markdown",
   "metadata": {},
   "source": [
    "Enriching dataset from the data from big stat volleyball"
   ]
  },
  {
   "cell_type": "code",
   "execution_count": 512,
   "metadata": {},
   "outputs": [],
   "source": [
    "merged_players_df.loc[\n",
    "    merged_players_df[\"height_inches_x\"].isnull(), \"height_inches_x\"\n",
    "] = merged_players_df[\"height_inches_y\"]\n",
    "\n",
    "merged_players_df.drop(columns=[\"height_inches_y\"], inplace=True)\n",
    "merged_players_df.loc[merged_players_df[\"DOB_x\"].isnull(), \"DOB_x\"] = merged_players_df[\n",
    "    \"DOB_y\"\n",
    "]\n",
    "merged_players_df.drop(columns=[\"DOB_str\", \"DOB_date\", \"DOB_y\"], inplace=True)"
   ]
  },
  {
   "cell_type": "code",
   "execution_count": 514,
   "metadata": {},
   "outputs": [],
   "source": [
    "# merged_players_df.loc[\n",
    "#     merged_players_df[\"player_country_x\"].isnull(), \"player_country_x\"\n",
    "# ] = merged_players_df[\"player_country_y\"]\n",
    "# merged_players_df.drop(columns=[\"player_country_y\"], inplace=True)\n"
   ]
  },
  {
   "cell_type": "code",
   "execution_count": 515,
   "metadata": {},
   "outputs": [],
   "source": [
    "merged_players_df.drop(columns=[\"player_name_y\", \"height_cm\"], inplace=True)\n",
    "\n",
    "column_mapping = {\n",
    "    \"player_name_x\": \"player_name\",\n",
    "    \"DOB_x\": \"DOB\",\n",
    "    \"height_inches_x\": \"height_in\",\n",
    "    # \"player_country_x\": \"player_country\",\n",
    "}\n",
    "\n",
    "# Rename the columns by removing the \"_x\" suffix\n",
    "merged_players_df.rename(columns=column_mapping, inplace=True)\n"
   ]
  },
  {
   "cell_type": "code",
   "execution_count": 516,
   "metadata": {},
   "outputs": [
    {
     "data": {
      "text/plain": [
       "BVB_ID                     0\n",
       "player_name                0\n",
       "player_country             0\n",
       "DOB                     1000\n",
       "home_town               3478\n",
       "resides                 1928\n",
       "total_first               82\n",
       "total_second              82\n",
       "total_third               82\n",
       "total_forth               82\n",
       "total_played              82\n",
       "total_points              82\n",
       "podium%                   82\n",
       "height_in               3704\n",
       "big_stat_player_name       0\n",
       "gender                     0\n",
       "dtype: int64"
      ]
     },
     "execution_count": 516,
     "metadata": {},
     "output_type": "execute_result"
    }
   ],
   "source": [
    "# calculate podiu percentage\n",
    "merged_players_df[\"podium%\"] = (\n",
    "    merged_players_df[\"total_points\"] / merged_players_df[\"total_played\"]\n",
    ")\n",
    "merged_players_df.isnull().sum()"
   ]
  },
  {
   "cell_type": "code",
   "execution_count": 517,
   "metadata": {},
   "outputs": [
    {
     "data": {
      "text/plain": [
       "(10021, 16)"
      ]
     },
     "execution_count": 517,
     "metadata": {},
     "output_type": "execute_result"
    }
   ],
   "source": [
    "merged_players_df.shape\n"
   ]
  },
  {
   "cell_type": "code",
   "execution_count": 518,
   "metadata": {},
   "outputs": [
    {
     "data": {
      "text/plain": [
       "(10021, 18)"
      ]
     },
     "execution_count": 518,
     "metadata": {},
     "output_type": "execute_result"
    }
   ],
   "source": [
    "columns = [\"BVB_ID\", \"isBlack_Challenge\", \"isBlack_Elite16\"]\n",
    "tb_df_tomerge = tb_df_unique[columns]\n",
    "\n",
    "## final merge then I will need to calculate isBlack, average match time and partners\n",
    "all_palyers_merged_df = pd.merge(\n",
    "    merged_players_df, tb_df_tomerge, on=\"BVB_ID\", how=\"left\"\n",
    ")\n",
    "\n",
    "all_palyers_merged_df.shape"
   ]
  },
  {
   "cell_type": "code",
   "execution_count": 519,
   "metadata": {},
   "outputs": [
    {
     "data": {
      "text/plain": [
       "False    9891\n",
       "True      130\n",
       "Name: isBlack, dtype: int64"
      ]
     },
     "execution_count": 519,
     "metadata": {},
     "output_type": "execute_result"
    }
   ],
   "source": [
    "all_palyers_merged_df[\"isBlack_Challenge\"].fillna(False, inplace=True)\n",
    "# all_palyers_merged_df[\"isBlack_Challenge\"].value_counts()\n",
    "\n",
    "all_palyers_merged_df[\"isBlack_Elite16\"].fillna(False, inplace=True)\n",
    "\n",
    "\n",
    "all_palyers_merged_df[\"isBlack\"] = (\n",
    "    all_palyers_merged_df[\"isBlack_Elite16\"]\n",
    "    | all_palyers_merged_df[\"isBlack_Challenge\"]\n",
    ")\n",
    "\n",
    "all_palyers_merged_df[\"isBlack\"].value_counts()\n"
   ]
  },
  {
   "cell_type": "code",
   "execution_count": 520,
   "metadata": {},
   "outputs": [
    {
     "data": {
      "text/plain": [
       "False    10131\n",
       "True        60\n",
       "Name: isBlack_Elite16_black, dtype: int64"
      ]
     },
     "execution_count": 520,
     "metadata": {},
     "output_type": "execute_result"
    }
   ],
   "source": [
    "# update isblack , after removing dublicates, I remved some info\n",
    "\n",
    "all_players_merged_df = all_palyers_merged_df.merge(\n",
    "    tb_df[[\"BVB_ID\", \"isBlack_Elite16\"]],\n",
    "    on=\"BVB_ID\",\n",
    "    how=\"left\",\n",
    "    suffixes=(\"_black\", \"\"),\n",
    ")\n",
    "\n",
    "all_players_merged_df[\"isBlack_Elite16_black\"].fillna(False, inplace=True)\n",
    "all_players_merged_df[\"isBlack_Elite16_black\"].value_counts()\n"
   ]
  },
  {
   "cell_type": "code",
   "execution_count": 521,
   "metadata": {},
   "outputs": [],
   "source": [
    "all_players_merged_df.drop(columns=[\"isBlack_Elite16\"], inplace=True)\n",
    "all_players_merged_df.rename(\n",
    "    columns={\"isBlack_Elite16_black\": \"isBlack_Elite16\"}, inplace=True\n",
    ")"
   ]
  },
  {
   "cell_type": "code",
   "execution_count": 419,
   "metadata": {},
   "outputs": [
    {
     "data": {
      "text/plain": [
       "Index(['gender', 'player_name', 'DOB', 'height_in', 'player_country', 'BVB_ID',\n",
       "       'home_town', 'resides', 'total_first', 'total_second', 'total_third',\n",
       "       'total_forth', 'total_played', 'total_points', 'podium%',\n",
       "       'big_stat_player_name', 'isBlack_Challenge', 'isBlack_Elite16',\n",
       "       'isBlack'],\n",
       "      dtype='object')"
      ]
     },
     "execution_count": 419,
     "metadata": {},
     "output_type": "execute_result"
    }
   ],
   "source": [
    "## connecting with matches and calculating average match time and amount of distict  teams \n",
    "all_players_merged_df.columns\n"
   ]
  },
  {
   "cell_type": "code",
   "execution_count": 522,
   "metadata": {},
   "outputs": [
    {
     "name": "stderr",
     "output_type": "stream",
     "text": [
      "C:\\Users\\Marina\\AppData\\Local\\Temp\\ipykernel_13004\\1188183611.py:14: SettingWithCopyWarning: \n",
      "A value is trying to be set on a copy of a slice from a DataFrame.\n",
      "Try using .loc[row_indexer,col_indexer] = value instead\n",
      "\n",
      "See the caveats in the documentation: https://pandas.pydata.org/pandas-docs/stable/user_guide/indexing.html#returning-a-view-versus-a-copy\n",
      "  matches_df[\"duration_int\"] = matches_df[\"duration\"].apply(transform_duration)\n"
     ]
    }
   ],
   "source": [
    "matches_df.columns\n",
    "# matches_df[\"duration\"].head()\n",
    "\n",
    "\n",
    "def transform_duration(str):\n",
    "    try:\n",
    "        (hours, min) = str.split(\":\")\n",
    "        duration = int(hours) * 60 + int(min)\n",
    "        return duration\n",
    "    except Exception:\n",
    "        return math.nan\n",
    "\n",
    "\n",
    "matches_df[\"duration_int\"] = matches_df[\"duration\"].apply(transform_duration)\n",
    "# matches_df[matches_df[\"duration_int\"] > 120][[\"duration\", \"duration_int\"]]\n",
    "big_stat_players_df[\"duration_int\"] = big_stat_players_df[\"duration\"].apply(\n",
    "    transform_duration\n",
    ")"
   ]
  },
  {
   "cell_type": "code",
   "execution_count": 546,
   "metadata": {},
   "outputs": [],
   "source": [
    "  matches_df.to_csv(\"./data/out/matches.csv\", index=False)\n"
   ]
  },
  {
   "cell_type": "code",
   "execution_count": 475,
   "metadata": {},
   "outputs": [
    {
     "data": {
      "text/html": [
       "<div>\n",
       "<style scoped>\n",
       "    .dataframe tbody tr th:only-of-type {\n",
       "        vertical-align: middle;\n",
       "    }\n",
       "\n",
       "    .dataframe tbody tr th {\n",
       "        vertical-align: top;\n",
       "    }\n",
       "\n",
       "    .dataframe thead th {\n",
       "        text-align: right;\n",
       "    }\n",
       "</style>\n",
       "<table border=\"1\" class=\"dataframe\">\n",
       "  <thead>\n",
       "    <tr style=\"text-align: right;\">\n",
       "      <th></th>\n",
       "      <th>duration_avg</th>\n",
       "      <th>partners_count</th>\n",
       "      <th>duration_median</th>\n",
       "    </tr>\n",
       "  </thead>\n",
       "  <tbody>\n",
       "    <tr>\n",
       "      <th>count</th>\n",
       "      <td>8663.000000</td>\n",
       "      <td>8986.000000</td>\n",
       "      <td>8663.000000</td>\n",
       "    </tr>\n",
       "    <tr>\n",
       "      <th>mean</th>\n",
       "      <td>40.173350</td>\n",
       "      <td>3.137436</td>\n",
       "      <td>39.037054</td>\n",
       "    </tr>\n",
       "    <tr>\n",
       "      <th>std</th>\n",
       "      <td>7.461350</td>\n",
       "      <td>3.855793</td>\n",
       "      <td>7.318043</td>\n",
       "    </tr>\n",
       "    <tr>\n",
       "      <th>min</th>\n",
       "      <td>11.000000</td>\n",
       "      <td>1.000000</td>\n",
       "      <td>11.000000</td>\n",
       "    </tr>\n",
       "    <tr>\n",
       "      <th>25%</th>\n",
       "      <td>35.333333</td>\n",
       "      <td>1.000000</td>\n",
       "      <td>34.000000</td>\n",
       "    </tr>\n",
       "    <tr>\n",
       "      <th>50%</th>\n",
       "      <td>40.253731</td>\n",
       "      <td>2.000000</td>\n",
       "      <td>39.000000</td>\n",
       "    </tr>\n",
       "    <tr>\n",
       "      <th>75%</th>\n",
       "      <td>44.682512</td>\n",
       "      <td>4.000000</td>\n",
       "      <td>43.000000</td>\n",
       "    </tr>\n",
       "    <tr>\n",
       "      <th>max</th>\n",
       "      <td>84.000000</td>\n",
       "      <td>61.000000</td>\n",
       "      <td>84.000000</td>\n",
       "    </tr>\n",
       "  </tbody>\n",
       "</table>\n",
       "</div>"
      ],
      "text/plain": [
       "       duration_avg  partners_count  duration_median\n",
       "count   8663.000000     8986.000000      8663.000000\n",
       "mean      40.173350        3.137436        39.037054\n",
       "std        7.461350        3.855793         7.318043\n",
       "min       11.000000        1.000000        11.000000\n",
       "25%       35.333333        1.000000        34.000000\n",
       "50%       40.253731        2.000000        39.000000\n",
       "75%       44.682512        4.000000        43.000000\n",
       "max       84.000000       61.000000        84.000000"
      ]
     },
     "execution_count": 475,
     "metadata": {},
     "output_type": "execute_result"
    }
   ],
   "source": [
    "# big_stat_players_df.isna().sum()\n",
    "\n",
    "# all_players_merged_df\n",
    "\n",
    "# big_stat_player_name\n",
    "# DOB\n",
    "\n",
    "average_duration = (\n",
    "    big_stat_players_df.groupby([\"player_name\", \"DOB\"])[\"duration_int\"]\n",
    "    .mean()\n",
    "    .reset_index()\n",
    ")\n",
    "average_duration.rename(columns={\"duration_int\": \"duration_avg\"}, inplace=True)\n",
    "\n",
    "median_duration = (\n",
    "    big_stat_players_df.groupby([\"player_name\", \"DOB\"])[\"duration_int\"]\n",
    "    .median()\n",
    "    .reset_index()\n",
    ")\n",
    "median_duration.rename(columns={\"duration_int\": \"duration_median\"}, inplace=True)\n",
    "\n",
    "# Calculate the number of distinct partners for each player (player_name, dob)\n",
    "distinct_partners_count = (\n",
    "    big_stat_players_df.groupby([\"player_name\", \"DOB\"])[\"partner\"]\n",
    "    .nunique()\n",
    "    .reset_index()\n",
    ")\n",
    "distinct_partners_count.rename(columns={\"partner\": \"partners_count\"}, inplace=True)\n",
    "\n",
    "# Merge 'average_duration' and 'distinct_partners_count' based on 'player_name' and 'DOB'\n",
    "duration_partners_df = pd.merge(\n",
    "    average_duration,\n",
    "    distinct_partners_count,\n",
    "    on=[\"player_name\", \"DOB\"],\n",
    ")\n",
    "\n",
    "all_duration_partners_df = pd.merge(\n",
    "    duration_partners_df,\n",
    "    median_duration,\n",
    "    on=[\"player_name\", \"DOB\"],\n",
    ")\n",
    "\n",
    "all_duration_partners_df.describe()\n"
   ]
  },
  {
   "cell_type": "code",
   "execution_count": 477,
   "metadata": {},
   "outputs": [
    {
     "data": {
      "text/plain": [
       "Index(['player_name', 'DOB', 'duration_avg', 'partners_count',\n",
       "       'duration_median'],\n",
       "      dtype='object')"
      ]
     },
     "execution_count": 477,
     "metadata": {},
     "output_type": "execute_result"
    }
   ],
   "source": [
    "# all_duration_partners_df[duration_partners_df[\"partners_count\"] > 60]\n",
    "all_duration_partners_df.columns\n"
   ]
  },
  {
   "cell_type": "code",
   "execution_count": 479,
   "metadata": {},
   "outputs": [
    {
     "data": {
      "text/plain": [
       "Index(['gender', 'player_name', 'DOB', 'height_in', 'player_country', 'BVB_ID',\n",
       "       'home_town', 'resides', 'total_first', 'total_second', 'total_third',\n",
       "       'total_forth', 'total_played', 'total_points', 'podium%',\n",
       "       'big_stat_player_name', 'isBlack_Challenge', 'isBlack_Elite16',\n",
       "       'isBlack'],\n",
       "      dtype='object')"
      ]
     },
     "execution_count": 479,
     "metadata": {},
     "output_type": "execute_result"
    }
   ],
   "source": [
    "all_players_merged_df.columns\n"
   ]
  },
  {
   "cell_type": "code",
   "execution_count": 539,
   "metadata": {},
   "outputs": [
    {
     "data": {
      "text/html": [
       "<div>\n",
       "<style scoped>\n",
       "    .dataframe tbody tr th:only-of-type {\n",
       "        vertical-align: middle;\n",
       "    }\n",
       "\n",
       "    .dataframe tbody tr th {\n",
       "        vertical-align: top;\n",
       "    }\n",
       "\n",
       "    .dataframe thead th {\n",
       "        text-align: right;\n",
       "    }\n",
       "</style>\n",
       "<table border=\"1\" class=\"dataframe\">\n",
       "  <thead>\n",
       "    <tr style=\"text-align: right;\">\n",
       "      <th></th>\n",
       "      <th>BVB_ID</th>\n",
       "      <th>player_name</th>\n",
       "      <th>big_stat_player_name</th>\n",
       "    </tr>\n",
       "  </thead>\n",
       "  <tbody>\n",
       "  </tbody>\n",
       "</table>\n",
       "</div>"
      ],
      "text/plain": [
       "Empty DataFrame\n",
       "Columns: [BVB_ID, player_name, big_stat_player_name]\n",
       "Index: []"
      ]
     },
     "execution_count": 539,
     "metadata": {},
     "output_type": "execute_result"
    }
   ],
   "source": [
    "all_players_merged_df.drop_duplicates(subset=\"BVB_ID\", keep=\"first\", inplace=True)\n",
    "\n",
    "all_players_merged_df[all_players_merged_df.duplicated(\"BVB_ID\", keep=False)][\n",
    "    [\"BVB_ID\", \"player_name\", \"big_stat_player_name\"]\n",
    "]"
   ]
  },
  {
   "cell_type": "code",
   "execution_count": 540,
   "metadata": {},
   "outputs": [],
   "source": [
    "## merge with all_players_merged_df.columns\n",
    "# all_duration_partners_df\n",
    "players_merged_df = pd.merge(\n",
    "    all_players_merged_df,\n",
    "    all_duration_partners_df,\n",
    "    how=\"left\",\n",
    "    left_on=[\"big_stat_player_name\", \"DOB\"],\n",
    "    right_on=[\"player_name\", \"DOB\"],\n",
    ")\n"
   ]
  },
  {
   "cell_type": "code",
   "execution_count": 541,
   "metadata": {},
   "outputs": [
    {
     "data": {
      "text/html": [
       "<div>\n",
       "<style scoped>\n",
       "    .dataframe tbody tr th:only-of-type {\n",
       "        vertical-align: middle;\n",
       "    }\n",
       "\n",
       "    .dataframe tbody tr th {\n",
       "        vertical-align: top;\n",
       "    }\n",
       "\n",
       "    .dataframe thead th {\n",
       "        text-align: right;\n",
       "    }\n",
       "</style>\n",
       "<table border=\"1\" class=\"dataframe\">\n",
       "  <thead>\n",
       "    <tr style=\"text-align: right;\">\n",
       "      <th></th>\n",
       "      <th>height_imputed</th>\n",
       "      <th>height_in</th>\n",
       "    </tr>\n",
       "  </thead>\n",
       "  <tbody>\n",
       "    <tr>\n",
       "      <th>0</th>\n",
       "      <td>75.096019</td>\n",
       "      <td>NaN</td>\n",
       "    </tr>\n",
       "    <tr>\n",
       "      <th>1</th>\n",
       "      <td>73.000000</td>\n",
       "      <td>73.0</td>\n",
       "    </tr>\n",
       "    <tr>\n",
       "      <th>2</th>\n",
       "      <td>76.000000</td>\n",
       "      <td>76.0</td>\n",
       "    </tr>\n",
       "    <tr>\n",
       "      <th>3</th>\n",
       "      <td>74.000000</td>\n",
       "      <td>74.0</td>\n",
       "    </tr>\n",
       "    <tr>\n",
       "      <th>4</th>\n",
       "      <td>77.000000</td>\n",
       "      <td>77.0</td>\n",
       "    </tr>\n",
       "    <tr>\n",
       "      <th>...</th>\n",
       "      <td>...</td>\n",
       "      <td>...</td>\n",
       "    </tr>\n",
       "    <tr>\n",
       "      <th>9990</th>\n",
       "      <td>75.096019</td>\n",
       "      <td>NaN</td>\n",
       "    </tr>\n",
       "    <tr>\n",
       "      <th>9991</th>\n",
       "      <td>75.096019</td>\n",
       "      <td>NaN</td>\n",
       "    </tr>\n",
       "    <tr>\n",
       "      <th>9992</th>\n",
       "      <td>75.096019</td>\n",
       "      <td>NaN</td>\n",
       "    </tr>\n",
       "    <tr>\n",
       "      <th>9993</th>\n",
       "      <td>75.096019</td>\n",
       "      <td>NaN</td>\n",
       "    </tr>\n",
       "    <tr>\n",
       "      <th>9994</th>\n",
       "      <td>75.096019</td>\n",
       "      <td>NaN</td>\n",
       "    </tr>\n",
       "  </tbody>\n",
       "</table>\n",
       "<p>9995 rows × 2 columns</p>\n",
       "</div>"
      ],
      "text/plain": [
       "      height_imputed  height_in\n",
       "0          75.096019        NaN\n",
       "1          73.000000       73.0\n",
       "2          76.000000       76.0\n",
       "3          74.000000       74.0\n",
       "4          77.000000       77.0\n",
       "...              ...        ...\n",
       "9990       75.096019        NaN\n",
       "9991       75.096019        NaN\n",
       "9992       75.096019        NaN\n",
       "9993       75.096019        NaN\n",
       "9994       75.096019        NaN\n",
       "\n",
       "[9995 rows x 2 columns]"
      ]
     },
     "execution_count": 541,
     "metadata": {},
     "output_type": "execute_result"
    }
   ],
   "source": [
    "## Impute height with the average height within each 'player_country' and 'gender'\n",
    "players_merged_df[\"height_imputed\"] = players_merged_df.groupby(\n",
    "    [\"player_country\", \"gender\"]\n",
    ")[\"height_in\"].transform(lambda x: x.fillna(x.mean()))\n",
    "\n",
    "players_merged_df[\"height_imputed\"] = players_merged_df.groupby([\"gender\"])[\n",
    "    \"height_in\"\n",
    "].transform(lambda x: x.fillna(x.mean()))\n",
    "\n",
    "players_merged_df[[\"height_imputed\", \"height_in\"]]\n"
   ]
  },
  {
   "cell_type": "code",
   "execution_count": 529,
   "metadata": {},
   "outputs": [
    {
     "data": {
      "text/plain": [
       "Index(['BVB_ID', 'player_name_x', 'player_country', 'DOB', 'home_town',\n",
       "       'resides', 'total_first', 'total_second', 'total_third', 'total_forth',\n",
       "       'total_played', 'total_points', 'podium%', 'height_in',\n",
       "       'big_stat_player_name', 'gender', 'isBlack_Challenge',\n",
       "       'isBlack_Elite16', 'isBlack', 'duration_avg', 'partners_count',\n",
       "       'duration_median', 'height_imputed'],\n",
       "      dtype='object')"
      ]
     },
     "execution_count": 529,
     "metadata": {},
     "output_type": "execute_result"
    }
   ],
   "source": [
    "players_merged_df.columns"
   ]
  },
  {
   "cell_type": "code",
   "execution_count": 542,
   "metadata": {},
   "outputs": [],
   "source": [
    "players_merged_df.rename(columns={\"player_name_x\": \"player_name\"}, inplace=True)\n"
   ]
  },
  {
   "cell_type": "code",
   "execution_count": 543,
   "metadata": {},
   "outputs": [
    {
     "data": {
      "text/html": [
       "<div>\n",
       "<style scoped>\n",
       "    .dataframe tbody tr th:only-of-type {\n",
       "        vertical-align: middle;\n",
       "    }\n",
       "\n",
       "    .dataframe tbody tr th {\n",
       "        vertical-align: top;\n",
       "    }\n",
       "\n",
       "    .dataframe thead th {\n",
       "        text-align: right;\n",
       "    }\n",
       "</style>\n",
       "<table border=\"1\" class=\"dataframe\">\n",
       "  <thead>\n",
       "    <tr style=\"text-align: right;\">\n",
       "      <th></th>\n",
       "      <th>BVB_ID</th>\n",
       "      <th>player_name</th>\n",
       "      <th>big_stat_player_name</th>\n",
       "    </tr>\n",
       "  </thead>\n",
       "  <tbody>\n",
       "  </tbody>\n",
       "</table>\n",
       "</div>"
      ],
      "text/plain": [
       "Empty DataFrame\n",
       "Columns: [BVB_ID, player_name, big_stat_player_name]\n",
       "Index: []"
      ]
     },
     "execution_count": 543,
     "metadata": {},
     "output_type": "execute_result"
    }
   ],
   "source": [
    "players_merged_df[players_merged_df.duplicated(\"BVB_ID\", keep=False)][\n",
    "    [\"BVB_ID\", \"player_name\", \"big_stat_player_name\"]\n",
    "]\n"
   ]
  },
  {
   "cell_type": "code",
   "execution_count": 544,
   "metadata": {},
   "outputs": [],
   "source": [
    "\n",
    "players_merged_df[\"podium%\"] = (\n",
    "    players_merged_df[\"total_first\"] + players_merged_df[\"total_second\"] + players_merged_df[\"total_third\"]\n",
    ") / players_merged_df[\"total_played\"]\n",
    "players_merged_df[\"podium%\"] = players_merged_df[\"podium%\"].round(2)\n",
    "\n",
    "players_merged_df.to_csv(\"./data/out/players1.csv\", index=False)\n"
   ]
  }
 ],
 "metadata": {
  "kernelspec": {
   "display_name": "base",
   "language": "python",
   "name": "python3"
  },
  "language_info": {
   "codemirror_mode": {
    "name": "ipython",
    "version": 3
   },
   "file_extension": ".py",
   "mimetype": "text/x-python",
   "name": "python",
   "nbconvert_exporter": "python",
   "pygments_lexer": "ipython3",
   "version": "3.9.16"
  },
  "orig_nbformat": 4
 },
 "nbformat": 4,
 "nbformat_minor": 2
}
